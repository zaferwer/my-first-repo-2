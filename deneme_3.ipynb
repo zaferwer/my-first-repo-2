{
 "cells": [
  {
   "cell_type": "code",
   "execution_count": null,
   "metadata": {
    "tags": []
   },
   "outputs": [],
   "source": [
    "print('zaf'+'er')"
   ]
  },
  {
   "cell_type": "code",
   "execution_count": null,
   "metadata": {},
   "outputs": [],
   "source": []
  },
  {
   "cell_type": "code",
   "execution_count": null,
   "metadata": {},
   "outputs": [],
   "source": []
  },
  {
   "cell_type": "code",
   "execution_count": 100,
   "metadata": {
    "tags": []
   },
   "outputs": [
    {
     "output_type": "stream",
     "name": "stdout",
     "text": "My name is Mariam\n"
    }
   ],
   "source": [
    "name = 'MARIAM'\n",
    "print(f'My name is {name.capitalize()}' )\n"
   ]
  },
  {
   "cell_type": "code",
   "execution_count": 101,
   "metadata": {
    "tags": []
   },
   "outputs": [
    {
     "output_type": "stream",
     "name": "stdout",
     "text": "Susan is a young lady and she is a student at the CLRWAY IT University.\nSusan is a young lady and she is a student at the CLRWAY IT University.\n"
    }
   ],
   "source": [
    "name = 'Susan'\n",
    "age = 'young'\n",
    "gender = 'lady'\n",
    "school = 'CLRWAY IT University'\n",
    "print(f'{name} is a {age} {gender} and she is a student at the {school}.')\n",
    "output = f'{name} is a {age} {gender} and she is a student at the {school}.'\n",
    "print(output)"
   ]
  },
  {
   "cell_type": "code",
   "execution_count": 102,
   "metadata": {
    "tags": []
   },
   "outputs": [
    {
     "output_type": "error",
     "ename": "SyntaxError",
     "evalue": "invalid syntax (<ipython-input-102-0b9fa60634ac>, line 4)",
     "traceback": [
      "\u001b[1;36m  File \u001b[1;32m\"<ipython-input-102-0b9fa60634ac>\"\u001b[1;36m, line \u001b[1;32m4\u001b[0m\n\u001b[1;33m    print('ahmet'.startswith(('a' and 'h' and 'm'),0 2))\u001b[0m\n\u001b[1;37m                                                     ^\u001b[0m\n\u001b[1;31mSyntaxError\u001b[0m\u001b[1;31m:\u001b[0m invalid syntax\n"
     ]
    }
   ],
   "source": [
    "print('ahmet'.startswith(('a', 'h', 't'),0))\n",
    "print('ahmet'.startswith(('a' or 'h' or 't'),0))\n",
    "print('ahmet'.startswith(('a' and 'h' and 't'),0))\n",
    "print('ahmet'.startswith(('a' and 'h' and 'm'),0 2))"
   ]
  },
  {
   "cell_type": "code",
   "execution_count": 103,
   "metadata": {
    "tags": []
   },
   "outputs": [
    {
     "output_type": "error",
     "ename": "ValueError",
     "evalue": "invalid literal for int() with base 10: ''",
     "traceback": [
      "\u001b[1;31m---------------------------------------------------------------------------\u001b[0m",
      "\u001b[1;31mValueError\u001b[0m                                Traceback (most recent call last)",
      "\u001b[1;32m<ipython-input-103-2045f40e8339>\u001b[0m in \u001b[0;36m<module>\u001b[1;34m\u001b[0m\n\u001b[1;32m----> 1\u001b[1;33m \u001b[0mnum1\u001b[0m \u001b[1;33m=\u001b[0m \u001b[0mint\u001b[0m\u001b[1;33m(\u001b[0m\u001b[0minput\u001b[0m\u001b[1;33m(\u001b[0m\u001b[1;33m)\u001b[0m\u001b[1;33m)\u001b[0m\u001b[1;33m\u001b[0m\u001b[1;33m\u001b[0m\u001b[0m\n\u001b[0m\u001b[0;32m      2\u001b[0m \u001b[0mnum2\u001b[0m \u001b[1;33m=\u001b[0m \u001b[0mint\u001b[0m\u001b[1;33m(\u001b[0m\u001b[0minput\u001b[0m\u001b[1;33m(\u001b[0m\u001b[1;33m)\u001b[0m\u001b[1;33m)\u001b[0m\u001b[1;33m\u001b[0m\u001b[1;33m\u001b[0m\u001b[0m\n\u001b[0;32m      3\u001b[0m \u001b[0mres\u001b[0m \u001b[1;33m=\u001b[0m \u001b[0mnum1\u001b[0m \u001b[1;33m+\u001b[0m \u001b[0mnum2\u001b[0m\u001b[1;33m\u001b[0m\u001b[1;33m\u001b[0m\u001b[0m\n\u001b[0;32m      4\u001b[0m \u001b[0mprint\u001b[0m\u001b[1;33m(\u001b[0m\u001b[0mres\u001b[0m\u001b[1;33m)\u001b[0m\u001b[1;33m\u001b[0m\u001b[1;33m\u001b[0m\u001b[0m\n",
      "\u001b[1;31mValueError\u001b[0m: invalid literal for int() with base 10: ''"
     ]
    }
   ],
   "source": [
    "num1 = int(input())\n",
    "num2 = int(input())\n",
    "res = num1 + num2\n",
    "print(res)\n"
   ]
  },
  {
   "cell_type": "code",
   "execution_count": 104,
   "metadata": {},
   "outputs": [
    {
     "output_type": "error",
     "ename": "ValueError",
     "evalue": "invalid literal for int() with base 10: ''",
     "traceback": [
      "\u001b[1;31m---------------------------------------------------------------------------\u001b[0m",
      "\u001b[1;31mValueError\u001b[0m                                Traceback (most recent call last)",
      "\u001b[1;32m<ipython-input-104-e5344f6ad08f>\u001b[0m in \u001b[0;36m<module>\u001b[1;34m\u001b[0m\n\u001b[0;32m      4\u001b[0m \u001b[1;33m\u001b[0m\u001b[0m\n\u001b[0;32m      5\u001b[0m \u001b[1;33m\u001b[0m\u001b[0m\n\u001b[1;32m----> 6\u001b[1;33m \u001b[0mnum1\u001b[0m \u001b[1;33m=\u001b[0m \u001b[0mint\u001b[0m\u001b[1;33m(\u001b[0m\u001b[0minput\u001b[0m\u001b[1;33m(\u001b[0m\u001b[1;33m)\u001b[0m\u001b[1;33m)\u001b[0m\u001b[1;33m\u001b[0m\u001b[1;33m\u001b[0m\u001b[0m\n\u001b[0m\u001b[0;32m      7\u001b[0m \u001b[0mnum2\u001b[0m \u001b[1;33m=\u001b[0m \u001b[0mint\u001b[0m\u001b[1;33m(\u001b[0m\u001b[0minput\u001b[0m\u001b[1;33m(\u001b[0m\u001b[1;33m)\u001b[0m\u001b[1;33m)\u001b[0m\u001b[1;33m\u001b[0m\u001b[1;33m\u001b[0m\u001b[0m\n\u001b[0;32m      8\u001b[0m \u001b[0mres\u001b[0m \u001b[1;33m=\u001b[0m \u001b[0msolveMeFirst\u001b[0m \u001b[1;33m(\u001b[0m\u001b[0mnum1\u001b[0m\u001b[1;33m,\u001b[0m\u001b[0mnum2\u001b[0m\u001b[1;33m)\u001b[0m\u001b[1;33m\u001b[0m\u001b[1;33m\u001b[0m\u001b[0m\n",
      "\u001b[1;31mValueError\u001b[0m: invalid literal for int() with base 10: ''"
     ]
    }
   ],
   "source": [
    "def solveMeFirst(a,b): \n",
    "    print(sayi1+sayi2)\n",
    "\t# Hint: Type return a+b below\n",
    "\n",
    "\n",
    "num1 = int(input())\n",
    "num2 = int(input())\n",
    "res = solveMeFirst (num1,num2)\n",
    "print(res)\n"
   ]
  },
  {
   "cell_type": "code",
   "execution_count": 105,
   "metadata": {
    "tags": []
   },
   "outputs": [
    {
     "output_type": "error",
     "ename": "ValueError",
     "evalue": "invalid literal for int() with base 10: ''",
     "traceback": [
      "\u001b[1;31m---------------------------------------------------------------------------\u001b[0m",
      "\u001b[1;31mValueError\u001b[0m                                Traceback (most recent call last)",
      "\u001b[1;32m<ipython-input-105-84ee49a4e88a>\u001b[0m in \u001b[0;36m<module>\u001b[1;34m\u001b[0m\n\u001b[0;32m      4\u001b[0m \u001b[1;33m\u001b[0m\u001b[0m\n\u001b[0;32m      5\u001b[0m \u001b[1;33m\u001b[0m\u001b[0m\n\u001b[1;32m----> 6\u001b[1;33m \u001b[0mnum1\u001b[0m \u001b[1;33m=\u001b[0m \u001b[0mint\u001b[0m\u001b[1;33m(\u001b[0m\u001b[0minput\u001b[0m\u001b[1;33m(\u001b[0m\u001b[1;33m)\u001b[0m\u001b[1;33m)\u001b[0m\u001b[1;33m\u001b[0m\u001b[1;33m\u001b[0m\u001b[0m\n\u001b[0m\u001b[0;32m      7\u001b[0m \u001b[0mnum2\u001b[0m \u001b[1;33m=\u001b[0m \u001b[0mint\u001b[0m\u001b[1;33m(\u001b[0m\u001b[0minput\u001b[0m\u001b[1;33m(\u001b[0m\u001b[1;33m)\u001b[0m\u001b[1;33m)\u001b[0m\u001b[1;33m\u001b[0m\u001b[1;33m\u001b[0m\u001b[0m\n\u001b[0;32m      8\u001b[0m \u001b[0mres\u001b[0m \u001b[1;33m=\u001b[0m \u001b[0msolveMeFirst\u001b[0m\u001b[1;33m(\u001b[0m\u001b[0mnum1\u001b[0m\u001b[1;33m,\u001b[0m\u001b[0mnum2\u001b[0m\u001b[1;33m)\u001b[0m\u001b[1;33m\u001b[0m\u001b[1;33m\u001b[0m\u001b[0m\n",
      "\u001b[1;31mValueError\u001b[0m: invalid literal for int() with base 10: ''"
     ]
    }
   ],
   "source": [
    "def solveMeFirst(a,b):\n",
    "    print(a+b)\n",
    "\t# Hint: Type return a+b below\n",
    "\n",
    "\n",
    "num1 = int(input())\n",
    "num2 = int(input())\n",
    "res = solveMeFirst(num1,num2)\n",
    "\n",
    "\n"
   ]
  },
  {
   "cell_type": "code",
   "execution_count": 106,
   "metadata": {},
   "outputs": [
    {
     "output_type": "error",
     "ename": "KeyError",
     "evalue": "'OUTPUT_PATH'",
     "traceback": [
      "\u001b[1;31m---------------------------------------------------------------------------\u001b[0m",
      "\u001b[1;31mKeyError\u001b[0m                                  Traceback (most recent call last)",
      "\u001b[1;32m<ipython-input-106-4a27e48ded91>\u001b[0m in \u001b[0;36m<module>\u001b[1;34m\u001b[0m\n\u001b[0;32m     25\u001b[0m \u001b[1;33m\u001b[0m\u001b[0m\n\u001b[0;32m     26\u001b[0m \u001b[1;32mif\u001b[0m \u001b[0m__name__\u001b[0m \u001b[1;33m==\u001b[0m \u001b[1;34m'__main__'\u001b[0m\u001b[1;33m:\u001b[0m\u001b[1;33m\u001b[0m\u001b[1;33m\u001b[0m\u001b[0m\n\u001b[1;32m---> 27\u001b[1;33m     \u001b[0mfptr\u001b[0m \u001b[1;33m=\u001b[0m \u001b[0mopen\u001b[0m\u001b[1;33m(\u001b[0m\u001b[0mos\u001b[0m\u001b[1;33m.\u001b[0m\u001b[0menviron\u001b[0m\u001b[1;33m[\u001b[0m\u001b[1;34m'OUTPUT_PATH'\u001b[0m\u001b[1;33m]\u001b[0m\u001b[1;33m,\u001b[0m \u001b[1;34m'w'\u001b[0m\u001b[1;33m)\u001b[0m\u001b[1;33m\u001b[0m\u001b[1;33m\u001b[0m\u001b[0m\n\u001b[0m\u001b[0;32m     28\u001b[0m \u001b[1;33m\u001b[0m\u001b[0m\n\u001b[0;32m     29\u001b[0m     \u001b[0mgrades_count\u001b[0m \u001b[1;33m=\u001b[0m \u001b[0mint\u001b[0m\u001b[1;33m(\u001b[0m\u001b[0minput\u001b[0m\u001b[1;33m(\u001b[0m\u001b[1;33m)\u001b[0m\u001b[1;33m.\u001b[0m\u001b[0mstrip\u001b[0m\u001b[1;33m(\u001b[0m\u001b[1;33m)\u001b[0m\u001b[1;33m)\u001b[0m\u001b[1;33m\u001b[0m\u001b[1;33m\u001b[0m\u001b[0m\n",
      "\u001b[1;32m~\\anaconda3\\lib\\os.py\u001b[0m in \u001b[0;36m__getitem__\u001b[1;34m(self, key)\u001b[0m\n\u001b[0;32m    677\u001b[0m         \u001b[1;32mexcept\u001b[0m \u001b[0mKeyError\u001b[0m\u001b[1;33m:\u001b[0m\u001b[1;33m\u001b[0m\u001b[1;33m\u001b[0m\u001b[0m\n\u001b[0;32m    678\u001b[0m             \u001b[1;31m# raise KeyError with the original key value\u001b[0m\u001b[1;33m\u001b[0m\u001b[1;33m\u001b[0m\u001b[1;33m\u001b[0m\u001b[0m\n\u001b[1;32m--> 679\u001b[1;33m             \u001b[1;32mraise\u001b[0m \u001b[0mKeyError\u001b[0m\u001b[1;33m(\u001b[0m\u001b[0mkey\u001b[0m\u001b[1;33m)\u001b[0m \u001b[1;32mfrom\u001b[0m \u001b[1;32mNone\u001b[0m\u001b[1;33m\u001b[0m\u001b[1;33m\u001b[0m\u001b[0m\n\u001b[0m\u001b[0;32m    680\u001b[0m         \u001b[1;32mreturn\u001b[0m \u001b[0mself\u001b[0m\u001b[1;33m.\u001b[0m\u001b[0mdecodevalue\u001b[0m\u001b[1;33m(\u001b[0m\u001b[0mvalue\u001b[0m\u001b[1;33m)\u001b[0m\u001b[1;33m\u001b[0m\u001b[1;33m\u001b[0m\u001b[0m\n\u001b[0;32m    681\u001b[0m \u001b[1;33m\u001b[0m\u001b[0m\n",
      "\u001b[1;31mKeyError\u001b[0m: 'OUTPUT_PATH'"
     ]
    }
   ],
   "source": [
    "#!/bin/python3\n",
    "\n",
    "import math\n",
    "import os\n",
    "import random\n",
    "import re\n",
    "import sys\n",
    "\n",
    "#\n",
    "# Complete the 'gradingStudents' function below.\n",
    "#\n",
    "# The function is expected to return an INTEGER_ARRAY.\n",
    "# The function accepts INTEGER_ARRAY grades as parameter.\n",
    "#\n",
    "\n",
    "def gradingStudents(grades):\n",
    "    # Write your code here\n",
    "    if grades % 5 == 3:\n",
    "\n",
    "\n",
    "       grades = grades +2\n",
    "    if grades % 5 == 4:\n",
    "       grades = grades +1\n",
    "\n",
    "\n",
    "if __name__ == '__main__':\n",
    "    fptr = open(os.environ['OUTPUT_PATH'], 'w')\n",
    "\n",
    "    grades_count = int(input().strip())\n",
    "\n",
    "    grades = []\n",
    "\n",
    "    for _ in range(grades_count):\n",
    "        grades_item = int(input().strip())\n",
    "        grades.append(grades_item)\n",
    "\n",
    "    result = gradingStudents(grades)\n",
    "\n",
    "    fptr.write('\\n'.join(map(str, result)))\n",
    "    fptr.write('\\n')\n",
    "\n",
    "    fptr.close()\n",
    "\n"
   ]
  },
  {
   "cell_type": "code",
   "execution_count": null,
   "metadata": {
    "tags": []
   },
   "outputs": [],
   "source": [
    "grades = [4,73,67,38,33]\n",
    "rounded_grades = []\n",
    "for grade in grades:\n",
    "        if grade>=38:\n",
    "            if grade%5>2: \n",
    "                grade = grade - grade%5 + 5\n",
    "rounded_grades.append(grade)\n",
    "print(rounded_grade)"
   ]
  },
  {
   "cell_type": "code",
   "execution_count": 117,
   "metadata": {
    "tags": []
   },
   "outputs": [
    {
     "output_type": "error",
     "ename": "ValueError",
     "evalue": "invalid literal for int() with base 10: ''",
     "traceback": [
      "\u001b[1;31m---------------------------------------------------------------------------\u001b[0m",
      "\u001b[1;31mValueError\u001b[0m                                Traceback (most recent call last)",
      "\u001b[1;32m<ipython-input-117-5c631fff5d29>\u001b[0m in \u001b[0;36m<module>\u001b[1;34m\u001b[0m\n\u001b[1;32m----> 1\u001b[1;33m \u001b[1;32mfor\u001b[0m \u001b[0m_\u001b[0m \u001b[1;32min\u001b[0m \u001b[0mrange\u001b[0m\u001b[1;33m(\u001b[0m\u001b[0mint\u001b[0m\u001b[1;33m(\u001b[0m\u001b[0minput\u001b[0m\u001b[1;33m(\u001b[0m\u001b[1;33m)\u001b[0m\u001b[1;33m)\u001b[0m\u001b[1;33m)\u001b[0m\u001b[1;33m:\u001b[0m\u001b[1;33m\u001b[0m\u001b[1;33m\u001b[0m\u001b[0m\n\u001b[0m\u001b[0;32m      2\u001b[0m     \u001b[0mx\u001b[0m \u001b[1;33m=\u001b[0m \u001b[0mint\u001b[0m\u001b[1;33m(\u001b[0m\u001b[0minput\u001b[0m\u001b[1;33m(\u001b[0m\u001b[1;33m)\u001b[0m\u001b[1;33m)\u001b[0m\u001b[1;33m\u001b[0m\u001b[1;33m\u001b[0m\u001b[0m\n\u001b[0;32m      3\u001b[0m     \u001b[0mx\u001b[0m \u001b[1;33m=\u001b[0m \u001b[0mx\u001b[0m\u001b[1;33m-\u001b[0m\u001b[0mx\u001b[0m\u001b[1;33m%\u001b[0m\u001b[1;36m5\u001b[0m\u001b[1;33m+\u001b[0m\u001b[1;36m5\u001b[0m \u001b[1;32mif\u001b[0m \u001b[0mx\u001b[0m\u001b[1;33m%\u001b[0m\u001b[1;36m5\u001b[0m\u001b[1;33m>\u001b[0m\u001b[1;36m2\u001b[0m \u001b[1;32mand\u001b[0m \u001b[0mx\u001b[0m\u001b[1;33m>=\u001b[0m\u001b[1;36m38\u001b[0m \u001b[1;32melse\u001b[0m \u001b[0mx\u001b[0m\u001b[1;33m\u001b[0m\u001b[1;33m\u001b[0m\u001b[0m\n\u001b[0;32m      4\u001b[0m     \u001b[0mprint\u001b[0m\u001b[1;33m(\u001b[0m\u001b[0mx\u001b[0m\u001b[1;33m)\u001b[0m\u001b[1;33m\u001b[0m\u001b[1;33m\u001b[0m\u001b[0m\n\u001b[0;32m      5\u001b[0m \u001b[0mprint\u001b[0m\u001b[1;33m(\u001b[0m\u001b[0mgrades\u001b[0m\u001b[1;33m)\u001b[0m\u001b[1;33m\u001b[0m\u001b[1;33m\u001b[0m\u001b[0m\n",
      "\u001b[1;31mValueError\u001b[0m: invalid literal for int() with base 10: ''"
     ]
    }
   ],
   "source": [
    "\n",
    "for _ in range(int(input())):\n",
    "    x = int(input())\n",
    "    x = x-x%5+5 if x%5>2 and x>=38 else x\n",
    "    print(x)\n",
    "print(grades)\n",
    "\n",
    "\n",
    "\n",
    "\n"
   ]
  },
  {
   "cell_type": "code",
   "execution_count": null,
   "metadata": {},
   "outputs": [],
   "source": [
    "#!/bin/python3\n",
    "\n",
    "import math\n",
    "import os\n",
    "import random\n",
    "import re\n",
    "import sys\n",
    "\n",
    "#\n",
    "# Complete the 'gradingStudents' function below.\n",
    "#\n",
    "# The function is expected to return an INTEGER_ARRAY.\n",
    "# The function accepts INTEGER_ARRAY grades as parameter.\n",
    "#\n",
    "\n",
    "def gradingStudents(grades):\n",
    "    # Write your code here\n",
    "    for _ in range(int(input())):\n",
    "        x = int(input())\n",
    "        x = x-x%5+5 if x%5>2 and x>=38 else x\n",
    "\n",
    "    \n",
    "\n",
    "if __name__ == '__main__':\n",
    "    fptr = open(os.environ['OUTPUT_PATH'], 'w')\n",
    "\n",
    "    grades_count = int(input().strip())\n",
    "\n",
    "    grades = []\n",
    "\n",
    "    for _ in range(grades_count):\n",
    "        grades_item = int(input().strip())\n",
    "        grades.append(grades_item)\n",
    "\n",
    "    result = gradingStudents(grades)\n",
    "\n",
    "    fptr.write('\\n'.join(map(str, result)))\n",
    "    fptr.write('\\n')\n",
    "\n",
    "    fptr.close()\n"
   ]
  },
  {
   "cell_type": "code",
   "execution_count": 111,
   "metadata": {},
   "outputs": [
    {
     "output_type": "error",
     "ename": "IndentationError",
     "evalue": "unexpected indent (<ipython-input-111-db62fdfb281d>, line 19)",
     "traceback": [
      "\u001b[1;36m  File \u001b[1;32m\"<ipython-input-111-db62fdfb281d>\"\u001b[1;36m, line \u001b[1;32m19\u001b[0m\n\u001b[1;33m    for a0 in range(n):\u001b[0m\n\u001b[1;37m    ^\u001b[0m\n\u001b[1;31mIndentationError\u001b[0m\u001b[1;31m:\u001b[0m unexpected indent\n"
     ]
    }
   ],
   "source": [
    "#!/bin/python3\n",
    "\n",
    "import math\n",
    "import os\n",
    "import random\n",
    "import re\n",
    "import sys\n",
    "\n",
    "#\n",
    "# Complete the 'gradingStudents' function below.\n",
    "#\n",
    "# The function is expected to return an INTEGER_ARRAY.\n",
    "# The function accepts INTEGER_ARRAY grades as parameter.\n",
    "#\n",
    "\n",
    "def gradingStudents(grades):\n",
    "    # Write your code here\n",
    "    n = int(input().strip())\n",
    "        for a0 in range(n):\n",
    "        grade = int(input().strip())\n",
    "\n",
    "    if grade >= 38:\n",
    "        # Here, we are only ever calculating 'grade mod 5' once:\n",
    "        mod5 = grade % 5\n",
    "        \n",
    "        if mod5 >= 3:\n",
    "            grade = grade + (5 - mod5)\n",
    "        \n",
    "    print(grade)\n",
    "\n",
    "    \n",
    "    \n",
    "    \n",
    "\n",
    "if __name__ == '__main__':\n",
    "    fptr = open(os.environ['OUTPUT_PATH'], 'w')\n",
    "\n",
    "    grades_count = int(input().strip())\n",
    "\n",
    "    grades = []\n",
    "\n",
    "    for _ in range(grades_count):\n",
    "        grades_item = int(input().strip())\n",
    "        grades.append(grades_item)\n",
    "\n",
    "    result = gradingStudents(grades)\n",
    "\n",
    "    fptr.write('\\n'.join(map(str, result)))\n",
    "    fptr.write('\\n')\n",
    "\n",
    "    fptr.close()"
   ]
  },
  {
   "cell_type": "code",
   "execution_count": null,
   "metadata": {},
   "outputs": [],
   "source": [
    "grades = [4,73,67,38,33]\n",
    "rounded_grades = []\n",
    "for grade in grades:\n",
    "        if grade>=38:\n",
    "           grade = grade - grade%5 + 5\n",
    "rounded_grades.append(grade)\n",
    "print(rounded_grade)"
   ]
  },
  {
   "cell_type": "code",
   "execution_count": 146,
   "metadata": {
    "tags": []
   },
   "outputs": [
    {
     "output_type": "stream",
     "name": "stdout",
     "text": "[4, 40, 75, 62, 85]\n"
    }
   ],
   "source": [
    "grades = [4,38,73,62,85]\n",
    "rounded_grades = list()\n",
    "for grade in grades:\n",
    "    if grade>=38:\n",
    "        if grade%5==3:\n",
    "            grade = grade + 2\n",
    "        if grade%5==4:\n",
    "            grade = grade + 1\n",
    "    rounded_grades.append(grade)\n",
    "\n",
    "print(rounded_grades)\n"
   ]
  },
  {
   "cell_type": "code",
   "execution_count": 152,
   "metadata": {
    "tags": []
   },
   "outputs": [
    {
     "output_type": "stream",
     "name": "stdout",
     "text": "60\n"
    }
   ],
   "source": [
    "a = int(input(\"Please enter first number: \"))\n",
    "b = int(input(\"Please enter second number: \"))\n",
    "c = int(input(\"Please enter third number: \"))\n",
    "#print(\"{}\"\"{}\"\"{}\"\".format(a,b,c))\n",
    "print(f\"{a*b*c}\")"
   ]
  },
  {
   "cell_type": "code",
   "execution_count": 160,
   "metadata": {
    "tags": []
   },
   "outputs": [
    {
     "output_type": "error",
     "ename": "SyntaxError",
     "evalue": "invalid syntax (<ipython-input-160-141049b92677>, line 4)",
     "traceback": [
      "\u001b[1;36m  File \u001b[1;32m\"<ipython-input-160-141049b92677>\"\u001b[1;36m, line \u001b[1;32m4\u001b[0m\n\u001b[1;33m    print(f\"{\"vücut kilte indeksiniz :\", vki:.2f}\")\u001b[0m\n\u001b[1;37m                  ^\u001b[0m\n\u001b[1;31mSyntaxError\u001b[0m\u001b[1;31m:\u001b[0m invalid syntax\n"
     ]
    }
   ],
   "source": [
    "a = float(input(\"lütfen boyunuzu giriniz\"))\n",
    "b = int(input('lütfen kilonuzu giriniz'))\n",
    "vki = b/(a*2)\n",
    "print(f\"{\"vücut kilte indeksiniz :\", vki:.2f}\")"
   ]
  },
  {
   "cell_type": "code",
   "execution_count": 164,
   "metadata": {
    "tags": []
   },
   "outputs": [
    {
     "output_type": "stream",
     "name": "stdout",
     "text": "200 USD ile 18 adet alabilir, 2 elinde kalır.\n"
    }
   ],
   "source": [
    "para = 200\n",
    "adet = 200//11\n",
    "kalan = 200%11\n",
    "print(f\" 200 USD ile {adet} adet alabilir, {kalan} elinde kalır.\")"
   ]
  },
  {
   "cell_type": "code",
   "execution_count": 185,
   "metadata": {
    "tags": []
   },
   "outputs": [
    {
     "output_type": "stream",
     "name": "stdout",
     "text": "remzi \n kitabevi \n 22212121\n"
    }
   ],
   "source": [
    "ad = \"remzi\"\n",
    "soyad = \"kitabevi\"\n",
    "tel = \"22212121\"\n",
    "print(ad, '\\n', soyad, '\\n', tel)"
   ]
  },
  {
   "cell_type": "code",
   "execution_count": 194,
   "metadata": {
    "tags": []
   },
   "outputs": [
    {
     "output_type": "stream",
     "name": "stdout",
     "text": "waywayway\n"
    }
   ],
   "source": [
    "word = \"Clarusway\"\n",
    "n = 3\n",
    "print(word[-3:]*n) "
   ]
  },
  {
   "cell_type": "code",
   "execution_count": 214,
   "metadata": {
    "tags": []
   },
   "outputs": [
    {
     "output_type": "stream",
     "name": "stdout",
     "text": "67\n"
    }
   ],
   "source": [
    "x = int(input('bir sayı girin lütfen'))\n",
    "b = x%3==0\n",
    "c = x%5==0\n",
    "\n",
    "print(b*'Clarus'+ c*'way'or str(x))\n"
   ]
  },
  {
   "cell_type": "code",
   "execution_count": 228,
   "metadata": {
    "tags": []
   },
   "outputs": [
    {
     "output_type": "stream",
     "name": "stdout",
     "text": "clarus\ncla\nzyxsural\n"
    }
   ],
   "source": [
    " letters = \"abclarusxyz\"\n",
    "\n",
    "print(letters[2:8])\n",
    "print(letters[2:5])\n",
    "print(letters[-1:-9:-1])"
   ]
  },
  {
   "cell_type": "code",
   "execution_count": null,
   "metadata": {},
   "outputs": [],
   "source": [
    "rand_list = [1,[1, 2, \"Clarus\", [2, \"way\"]], \" is the best\"]\n",
    "\n",
    "  - rand_list listesinin elemanlarından\n",
    "  - 'Claruway is the best' yazdırın\n"
   ]
  },
  {
   "cell_type": "code",
   "execution_count": 227,
   "metadata": {
    "tags": []
   },
   "outputs": [
    {
     "output_type": "error",
     "ename": "SyntaxError",
     "evalue": "invalid syntax (<ipython-input-227-0b7a5222f2ee>, line 2)",
     "traceback": [
      "\u001b[1;36m  File \u001b[1;32m\"<ipython-input-227-0b7a5222f2ee>\"\u001b[1;36m, line \u001b[1;32m2\u001b[0m\n\u001b[1;33m    num_list.sort(*)\u001b[0m\n\u001b[1;37m                   ^\u001b[0m\n\u001b[1;31mSyntaxError\u001b[0m\u001b[1;31m:\u001b[0m invalid syntax\n"
     ]
    }
   ],
   "source": [
    "num_list = [2, 3, 1, 5, 6, 4, 9, 8, 10]\n",
    "num_list.sort(*)\n",
    "\n"
   ]
  },
  {
   "cell_type": "code",
   "execution_count": 7,
   "metadata": {
    "tags": []
   },
   "outputs": [
    {
     "output_type": "stream",
     "name": "stdout",
     "text": "[1, 2, 3, 4, 5, 6, 7, 8, 9, 10]\n[10, 9, 8, 7, 6, 5, 4, 3, 2, 1]\n"
    }
   ],
   "source": [
    "my_list = list(range(1,11))\n",
    "print(my_list)\n",
    "my_list.sort(reverse=1)\n",
    "print(my_list)"
   ]
  },
  {
   "cell_type": "code",
   "execution_count": 41,
   "metadata": {
    "tags": []
   },
   "outputs": [
    {
     "output_type": "stream",
     "name": "stdout",
     "text": "['banana', ['orange', ['apple', 'eggplant', 'melon', 'spinach', 'cheese', 'leek'], 'water'], 'mandarin']\n['eggplant', 'spinach', 'leek']\n"
    }
   ],
   "source": [
    "grocer = [\"banana\", [\"orange\", [\"apple\", \"eggplant\", \"melon\", \"spinach\", \"cheese\", \"leek\" ], \"water\"], \"mandarin\"]\n",
    "print(grocer)\n",
    "print(grocer[1][1][1:6:2])\n"
   ]
  },
  {
   "cell_type": "code",
   "execution_count": 42,
   "metadata": {
    "tags": []
   },
   "outputs": [
    {
     "output_type": "stream",
     "name": "stdout",
     "text": "In God We Trust\n"
    }
   ],
   "source": [
    "text = 'In God wee Trust'\n",
    "print((text[:9] + text[10:]).title())\n"
   ]
  },
  {
   "cell_type": "code",
   "execution_count": 60,
   "metadata": {
    "tags": []
   },
   "outputs": [
    {
     "output_type": "stream",
     "name": "stdout",
     "text": "My two favorite flowers are tulip and rose, two favorite colors are blue and green.\n"
    }
   ],
   "source": [
    "flowers = [[\"jasmine\", [\"lavender\", \"rose\"], \"tulip\"]]\n",
    "colors = [\"red\", (\"blue\", [\"yellow\", \"green\"]), \"pink\"]\n",
    "text = \"My two favorite flowers are {} and {}, two favorite colors are {} and {}.\".format(flowers[0][2],flowers[0][1][1],colors[1][0],colors[1][1][1])\n",
    "print(text)"
   ]
  },
  {
   "cell_type": "code",
   "execution_count": 63,
   "metadata": {
    "tags": []
   },
   "outputs": [
    {
     "output_type": "stream",
     "name": "stdout",
     "text": "I am 40 years old.\n\tI have two children.\n\t\tData Science is my IT domain.\n"
    }
   ],
   "source": [
    "escapes = [\"\\n\\t\", (\"\\t\", \"\\t\\t\"), [\"\\n\", \"\\n\\t\\t\"]]\n",
    "\n",
    "sentence = \"I am 40 years old.{}I have two children.{}Data Science is my IT domain.\".format(escapes [0],escapes[2][1],)\n",
    "\n",
    "print(sentence)"
   ]
  },
  {
   "cell_type": "code",
   "execution_count": 74,
   "metadata": {},
   "outputs": [
    {
     "output_type": "execute_result",
     "data": {
      "text/plain": "'sol             test             sağ'"
     },
     "metadata": {},
     "execution_count": 74
    }
   ],
   "source": [
    "text = \"sol{:^30}sağ\".format(\"test\")\n",
    "text"
   ]
  },
  {
   "cell_type": "code",
   "execution_count": 99,
   "metadata": {
    "tags": []
   },
   "outputs": [
    {
     "output_type": "stream",
     "name": "stdout",
     "text": "2004 is a leap year \n"
    }
   ],
   "source": [
    "year = int(input('Please tell me which year you want to learn if it is leap year :'))\n",
    "leap = year%4==0 and (year%400==0 or not year%100==0)\n",
    "no_leap = not leap\n",
    "print(year,'is a leap year'*leap, \"is not leap year\"*no_leap)"
   ]
  },
  {
   "cell_type": "code",
   "execution_count": 98,
   "metadata": {
    "tags": []
   },
   "outputs": [
    {
     "output_type": "stream",
     "name": "stdout",
     "text": "This is a leap year : 2100\nFalse\n"
    }
   ],
   "source": [
    "year = int(input('Please write a 4-digit year: '))\n",
    "print(\"This is a leap year :\" ,year)\n",
    "print((year % 4 == 0) and (year % 100 == 0) and (year % 400 == 0))\n"
   ]
  },
  {
   "cell_type": "code",
   "execution_count": 123,
   "metadata": {
    "tags": []
   },
   "outputs": [
    {
     "output_type": "stream",
     "name": "stdout",
     "text": "15\n"
    }
   ],
   "source": [
    "meal_cost = float(input())\n",
    "tip_percent = int(input())\n",
    "tax_percent = int(input())\n",
    "print(round(meal_cost + meal_cost*float(tip_percent/100) + meal_cost*float(tax_percent/100)))\n"
   ]
  },
  {
   "cell_type": "code",
   "execution_count": 203,
   "metadata": {
    "tags": []
   },
   "outputs": [
    {
     "output_type": "stream",
     "name": "stdout",
     "text": "3\n"
    }
   ],
   "source": [
    "print(len([[1,2,3]][0]))\n"
   ]
  },
  {
   "cell_type": "code",
   "execution_count": 169,
   "metadata": {
    "tags": []
   },
   "outputs": [
    {
     "output_type": "stream",
     "name": "stdout",
     "text": "['2', '0', '2', '0', \"'\", 's', ' ', 'h', 'a', 'r', 'd']\n[\"2020's hard\"]\n"
    }
   ],
   "source": [
    "word = \"2020's hard\"\n",
    "a = list(word)\n",
    "b = [word]\n",
    "print(a)\n",
    "print(b)\n"
   ]
  },
  {
   "cell_type": "code",
   "execution_count": 191,
   "metadata": {
    "tags": []
   },
   "outputs": [
    {
     "output_type": "stream",
     "name": "stdout",
     "text": "<built-in method sort of list object at 0x0000023787E9EE08>\n"
    }
   ],
   "source": [
    "list_1 = [\"one\", \"four\", \"nine\"]\n",
    "print(list_1.sort)\n",
    "\n"
   ]
  },
  {
   "cell_type": "code",
   "execution_count": 198,
   "metadata": {
    "tags": []
   },
   "outputs": [
    {
     "output_type": "execute_result",
     "data": {
      "text/plain": "[False, True]"
     },
     "metadata": {},
     "execution_count": 198
    }
   ],
   "source": [
    "list_1 = [\"one\", \"four\", \"nine\"]\n",
    "list_1.sort()\n",
    "list_1\n",
    "\n"
   ]
  },
  {
   "cell_type": "code",
   "execution_count": 200,
   "metadata": {},
   "outputs": [
    {
     "output_type": "execute_result",
     "data": {
      "text/plain": "['*', '@', 'False']"
     },
     "metadata": {},
     "execution_count": 200
    }
   ],
   "source": [
    "list_2 = [\"@\", \"*\", \"False\"]\n",
    "list_2.sort()\n",
    "list_2\n"
   ]
  },
  {
   "cell_type": "code",
   "execution_count": 201,
   "metadata": {},
   "outputs": [
    {
     "output_type": "execute_result",
     "data": {
      "text/plain": "[False, True]"
     },
     "metadata": {},
     "execution_count": 201
    }
   ],
   "source": [
    "list_3 = [True, False]\n",
    "list_3.sort()\n",
    "list_3"
   ]
  },
  {
   "cell_type": "code",
   "execution_count": 218,
   "metadata": {
    "tags": []
   },
   "outputs": [
    {
     "output_type": "stream",
     "name": "stdout",
     "text": "3\n"
    }
   ],
   "source": [
    "print(len([[1],[1,2,[1,2,3,4]]][1][2]))\n"
   ]
  },
  {
   "cell_type": "code",
   "execution_count": 224,
   "metadata": {},
   "outputs": [
    {
     "output_type": "execute_result",
     "data": {
      "text/plain": "[1, 2, 3, 4, 5, 6, 7, 8, 9, 10]"
     },
     "metadata": {},
     "execution_count": 224
    }
   ],
   "source": [
    "list_1 = list(range(1,11))\n",
    "list_1\n",
    "odd_list = list_1[1::2]\n",
    "odd_list\n",
    "list_1\n"
   ]
  },
  {
   "cell_type": "code",
   "execution_count": 244,
   "metadata": {
    "tags": []
   },
   "outputs": [
    {
     "output_type": "stream",
     "name": "stdout",
     "text": "[1, [2, 'two', 3, 'three']]\n"
    }
   ],
   "source": [
    "mix_list = [1,[1,\"one\",2,\"two\",3,\"three\"],4]\n",
    "new_list=[]\n",
    "new_list.append(mix_list[0])\n",
    "new_list.append(mix_list[1][2:])\n",
    "print(new_list)"
   ]
  },
  {
   "cell_type": "code",
   "execution_count": 42,
   "metadata": {
    "tags": []
   },
   "outputs": [
    {
     "output_type": "stream",
     "name": "stdout",
     "text": "gee re\nhhh eee\nhhhh eee\n"
    }
   ],
   "source": [
    "for N in range(int(input())):\n",
    "    S = input()\n",
    "    print(S[::2], S[1::2])"
   ]
  },
  {
   "cell_type": "code",
   "execution_count": 1,
   "metadata": {
    "tags": []
   },
   "outputs": [
    {
     "output_type": "stream",
     "name": "stdout",
     "text": "[10, 20, 30, 40, 50, 60, 70, 80, 90, 100]\n"
    }
   ],
   "source": [
    "numbers_10 = [10, 30, 40, 50, 60, 70, 80, 90, 100]\n",
    "numbers_10.insert(1, 20)\n",
    "print(numbers_10)"
   ]
  },
  {
   "cell_type": "code",
   "execution_count": 16,
   "metadata": {
    "tags": []
   },
   "outputs": [
    {
     "output_type": "stream",
     "name": "stdout",
     "text": "spinach\n"
    }
   ],
   "source": [
    "fruits_vegetables = [\"fruit\", \"vegetable\", [\"apple\", \"banana\", [\"mango\", \"avocado\"]], [\"spinach\", \"broccoli\"]]\n",
    "print(fruits_vegetables[3][0])"
   ]
  },
  {
   "cell_type": "code",
   "execution_count": 20,
   "metadata": {
    "tags": []
   },
   "outputs": [
    {
     "output_type": "stream",
     "name": "stdout",
     "text": "(1, 2, 3, 4, 5, 6, 7, 8, 9, 10)\n<class 'tuple'>\n"
    }
   ],
   "source": [
    "number = tuple(range(1,11))\n",
    "print(number,type(number),sep=\"\\n\")"
   ]
  },
  {
   "cell_type": "code",
   "execution_count": 92,
   "metadata": {
    "tags": []
   },
   "outputs": [
    {
     "output_type": "stream",
     "name": "stdout",
     "text": "2 right handed leetters \n4 left handed letters\nTrue\n"
    }
   ],
   "source": [
    "left_hand_letters = ['q','w','e','r','t','a','s','d','f','g','z','x','c','v','b']\n",
    "right_hand_letters = ['y','u','i','o','p','h','j','k','l','n','m']\n",
    "read =  str(input('please enter the word that you want to learn : '))\n",
    "read_list =list(read)\n",
    "x=0 \n",
    "y=0\n",
    "for i in range(len(read_list)):\n",
    "    x += right_hand_letters.count(read_list[i])\n",
    "    y += left_hand_letters.count(read_list[i])\n",
    "print(x,'right handed leetters ')\n",
    "print(y,'left handed letters')\n",
    "print((x!=0 and y!=0))\n",
    "      \n",
    "\n"
   ]
  },
  {
   "cell_type": "code",
   "execution_count": 138,
   "metadata": {
    "tags": []
   },
   "outputs": [
    {
     "output_type": "stream",
     "name": "stdout",
     "text": "13130.00$\n"
    }
   ],
   "source": [
    "sales = {\n",
    "  \"cost_value\": 31.87,\n",
    "  \"sell_value\": 45.00,\n",
    "  \"inventory\": 1000\n",
    "}  \n",
    "x = ((sales['sell_value']-sales['cost_value'])*sales['inventory'])\n",
    "print(\"{:.2f}$\".format(x))"
   ]
  },
  {
   "cell_type": "code",
   "execution_count": null,
   "metadata": {},
   "outputs": [],
   "source": []
  },
  {
   "cell_type": "code",
   "execution_count": 13,
   "metadata": {
    "tags": []
   },
   "outputs": [
    {
     "output_type": "stream",
     "name": "stdout",
     "text": "<class 'set'>\n{'engineering'}\n<class 'set'>\n{'engineering'}\n"
    }
   ],
   "source": [
    "s = {'engineering'}\n",
    "print(type(s))\n",
    "print(s)\n",
    "t = set(['engineering'])\n",
    "print(type(t))\n",
    "print(t)"
   ]
  },
  {
   "cell_type": "code",
   "execution_count": 82,
   "metadata": {
    "tags": []
   },
   "outputs": [
    {
     "output_type": "stream",
     "name": "stdout",
     "text": "[[1, 1], [3, 4], [7, 1], [4, 1], [3, 4], [0, 1], [3, 4], [6, 1], [3, 4]]\nthe most frequent number is  3  and it was [7, 1] times repeated\n"
    }
   ],
   "source": [
    "numbers = [1, 3, 7, 4, 3, 0, 3, 6, 3]\n",
    "count_1 = []\n",
    "for i in range(len(numbers)):\n",
    "    count_1.append( [numbers[i] , numbers.count(numbers[i])])\n",
    "print(count_1)\n",
    "\n",
    "print(\"the most frequent number is \",a,\" and it was\",max(count_1), \"times repeated\")"
   ]
  },
  {
   "cell_type": "code",
   "execution_count": null,
   "metadata": {},
   "outputs": [],
   "source": [
    "numbers = [1, 3, 7, 4, 3, 0, 3, 6, 3]\n",
    "count_1 = []\n",
    "for i in range(len(numbers)):\n",
    "    count_1.append(numbers.count(numbers[i]))\n",
    "a = numbers.index(max(count_1))\n",
    "print(\"the most frequent number is \",a,\" and it was\",max(count_1), \"times repeated\")"
   ]
  },
  {
   "cell_type": "code",
   "execution_count": 76,
   "metadata": {
    "tags": []
   },
   "outputs": [
    {
     "output_type": "stream",
     "name": "stdout",
     "text": "{'name1': 'ali', 'name2': 'veli', 'name3': 'emrah', 'name4': 'murat'}\nali\n[('name1', 'ali'), ('name2', 'veli'), ('name3', 'emrah'), ('name4', 'murat')]\n['name1', 'name2', 'name3', 'name4']\n['ali', 'veli', 'emrah', 'murat']\n"
    }
   ],
   "source": [
    "family = {'name1':'ali', 'name2':'veli','name3':'ayşe'}\n",
    "family['name3']= 'emrah'\n",
    "family.update({'name4':'murat'})\n",
    "print(family)\n",
    "print(family['name1'])\n",
    "print(list(family.items()))\n",
    "print(list(family.keys()))\n",
    "print(list(family.values()))\n"
   ]
  },
  {
   "cell_type": "code",
   "execution_count": 14,
   "metadata": {
    "tags": []
   },
   "outputs": [
    {
     "output_type": "error",
     "ename": "SyntaxError",
     "evalue": "'return' outside function (<ipython-input-14-57aad1ad66ce>, line 2)",
     "traceback": [
      "\u001b[1;36m  File \u001b[1;32m\"<ipython-input-14-57aad1ad66ce>\"\u001b[1;36m, line \u001b[1;32m2\u001b[0m\n\u001b[1;33m    return s.swapcase()\u001b[0m\n\u001b[1;37m                        ^\u001b[0m\n\u001b[1;31mSyntaxError\u001b[0m\u001b[1;31m:\u001b[0m 'return' outside function\n"
     ]
    }
   ],
   "source": [
    "s ='Zafer'\n",
    "return s.swapcase() "
   ]
  },
  {
   "cell_type": "code",
   "execution_count": 16,
   "metadata": {
    "tags": []
   },
   "outputs": [
    {
     "output_type": "stream",
     "name": "stdout",
     "text": "13130\n"
    }
   ],
   "source": [
    "sales = {\n",
    "  \"cost_value\": 31.87,\n",
    "  \"sell_value\": 45.00,\n",
    "  \"inventory\": 1000\n",
    "}  \n",
    "x = ((sales['sell_value']-sales['cost_value'])*sales['inventory'])\n",
    "print(round(x))"
   ]
  },
  {
   "cell_type": "code",
   "execution_count": 27,
   "metadata": {
    "tags": []
   },
   "outputs": [
    {
     "output_type": "stream",
     "name": "stdout",
     "text": "zafer = 2626262\nNot Found\nzafer = 2626262\nzafer = 2626262\n"
    }
   ],
   "source": [
    "n = int(input())\n",
    "phonebook = {}\n",
    "x=0\n",
    "\n",
    "for i in range(n):\n",
    "    line = input()\n",
    "    pair = line.split()\n",
    "    phonebook[pair[0]] = pair[1]\n",
    "\n",
    "while x<4:\n",
    "    query = input()\n",
    "    x+=1\n",
    "    if query in phonebook.keys():\n",
    "        print(query,'=',phonebook[query])\n",
    "    else:\n",
    "        print('Not Found')"
   ]
  },
  {
   "cell_type": "code",
   "execution_count": 41,
   "metadata": {
    "tags": []
   },
   "outputs": [
    {
     "output_type": "stream",
     "name": "stdout",
     "text": "False\n"
    }
   ],
   "source": [
    "left_hand_letters = {'q','w','e','r','t','a','s','d','f','g','z','x','c','v','b'}\n",
    "right_hand_letters = {'y','u','i','o','p','h','j','k','l','n','m'}\n",
    "read =  str(input('please enter the word that you want to learn : '))\n",
    "read_set =set(read)\n",
    "x=(read_set&left_hand_letters)\n",
    "y=(read_set&right_hand_letters)\n",
    "print((len(x)!=0 and len(y)!=0))\n"
   ]
  },
  {
   "cell_type": "code",
   "execution_count": 44,
   "metadata": {
    "tags": []
   },
   "outputs": [
    {
     "output_type": "stream",
     "name": "stdout",
     "text": "{'w', 'g', 't', 'n', 'i', 'o'}\n{'s', 'w', 'h', 'g', 'a', 'n', 't', 'e', 'i', 'l', 'o'}\n{'e', 'l'}\n"
    }
   ],
   "source": [
    "a = set('wellington')\n",
    "b= set('washington')\n",
    "print(a&b)\n",
    "print(a|b)\n",
    "print(a-b)"
   ]
  },
  {
   "cell_type": "code",
   "execution_count": 38,
   "metadata": {
    "tags": []
   },
   "outputs": [
    {
     "output_type": "stream",
     "name": "stdout",
     "text": "39916800\n"
    }
   ],
   "source": [
    "def factorial(n):\n",
    "    res=1\n",
    "    if n > 0:\n",
    "        for i in range(n):\n",
    "            res = res*(i+1)\n",
    "            \n",
    "    elif n<0 :\n",
    "        res = 0\n",
    "    return res\n",
    "n = int(input())\n",
    "result = factorial(n)\n",
    "print(result)"
   ]
  },
  {
   "cell_type": "code",
   "execution_count": 6,
   "metadata": {
    "tags": []
   },
   "outputs": [
    {
     "output_type": "stream",
     "name": "stdout",
     "text": "Hello, zafer! The password is : W@12\n"
    }
   ],
   "source": [
    "name = input('Please tell me your name: ')\n",
    "if name == 'zafer':\n",
    "    print(f\"Hello, {name}! The password is : W@12\")\n",
    "else: \n",
    "    print(f\"Hello, {name}! See you later.\")\n"
   ]
  },
  {
   "cell_type": "code",
   "execution_count": 47,
   "metadata": {
    "tags": []
   },
   "outputs": [
    {
     "output_type": "stream",
     "name": "stdout",
     "text": "3 4\n"
    }
   ],
   "source": [
    "numbers = [1, 3, 7, 4, 3, 0, 3, 6, 3]\n",
    "count_1 = max (numbers,key=numbers.count)\n",
    "times = numbers.count(count_1)\n",
    "print(count_1, times)\n",
    "#a = numbers.index(max(count_1))\n",
    "#print(f\"the most frequent number is {a} and it was {max(count_1)} times repeated\")"
   ]
  },
  {
   "cell_type": "code",
   "execution_count": 56,
   "metadata": {
    "tags": []
   },
   "outputs": [
    {
     "output_type": "stream",
     "name": "stdout",
     "text": "1\n2\n[3, 4, 5]\n3 4 5\n6\n"
    }
   ],
   "source": [
    "x, y, *z, t = (1,2,3,4,5,6)\n",
    "print(x)\n",
    "print(y)\n",
    "print(z)\n",
    "print(*z)\n",
    "print(t)"
   ]
  },
  {
   "cell_type": "code",
   "execution_count": 44,
   "metadata": {},
   "outputs": [
    {
     "output_type": "execute_result",
     "data": {
      "text/plain": "<function str.split(sep=None, maxsplit=-1)>"
     },
     "metadata": {},
     "execution_count": 44
    }
   ],
   "source": [
    "x=151\n",
    "str(x).split"
   ]
  },
  {
   "cell_type": "code",
   "execution_count": 100,
   "metadata": {
    "tags": []
   },
   "outputs": [
    {
     "output_type": "stream",
     "name": "stdout",
     "text": "151 is not an Armstrong number\n"
    }
   ],
   "source": [
    "input_1 = input('Please enter the number you want to learn if it is a Amstrong number: ')\n",
    "x_list = [str(i) for i in str(input_1)]\n",
    "x_set = set(x_list)\n",
    "float_list={',','.'}\n",
    "strin = {'q','w','e','r','t','y','u','ı','o','p','ğ','ü','s','d','f','g','h','j','k','l','ş','i','z','x','c','v','b','n','m','ö','ç'}\n",
    "if x_set&float_list !=set():\n",
    "    print(\"Please enter an integer number\")\n",
    "elif x_set&strin !=set():\n",
    "    print(\"Do not use any entries other than numeric values\")\n",
    "\n",
    "else:\n",
    "    x=int(input_1)\n",
    "    if x<0:\n",
    "        print(\" Please enter a positive number\")\n",
    "    else:\n",
    "        x_list2 = [int(i) for i in str(x)]\n",
    "        y=0\n",
    "        for i in range(len(x_list2)):\n",
    "            y += x_list2[i-1]**len(x_list2)\n",
    "        if x==y:\n",
    "            print(f\"{x} is an Armstrong number\")\n",
    "        elif x!=y:\n",
    "            print(f\"{x} is not an Armstrong number\")\n",
    "\n",
    "\n"
   ]
  },
  {
   "cell_type": "code",
   "execution_count": null,
   "metadata": {},
   "outputs": [],
   "source": [
    "    x_list = [int(i) for i in str(x)]\n",
    "    y=0\n",
    "    for i in range(len(x_list)):\n",
    "        y += x_list[i-1]**len(x_list)\n",
    "    if x==y:\n",
    "        print(f\"{x} is an Armstrong number\")\n",
    "    elif x!=y:\n",
    "        print(f\"{x} is not an Armstrong number\")"
   ]
  },
  {
   "cell_type": "code",
   "execution_count": 133,
   "metadata": {
    "tags": []
   },
   "outputs": [
    {
     "output_type": "stream",
     "name": "stdout",
     "text": "2\n"
    }
   ],
   "source": [
    "    n = int(input())\n",
    "    x_list = bin(n)[2:]\n",
    "    x_11 = x_list.split('0')\n",
    "    max1 = len(max(x_11)) \n",
    "    print(max1)\n"
   ]
  },
  {
   "cell_type": "code",
   "execution_count": 205,
   "metadata": {
    "tags": []
   },
   "outputs": [
    {
     "output_type": "stream",
     "name": "stdout",
     "text": "-19\n"
    }
   ],
   "source": [
    "arr = [[0,-4,-6,0,-7,-6], [-1,-2,-6,-8,-3,-1], [-8,-4,-2,-8,-8,-6], [-3,-1,-2,-5,-7,-4], [-3,-5,-3,-6,-6,-6], [-3,-6,0,-8,-6,-7]]\n",
    "hourglass = []\n",
    "for x in range(0, 4):\n",
    "    for y in range(0, 4):\n",
    "        s1 = arr[x][y:y+3]\n",
    "        s2 = arr[x+1][y+1]\n",
    "        s3 = arr[x+2][y:y+3]\n",
    "        stot = sum(s1)+(s2)+sum(s3)\n",
    "        hourglass.append(stot)\n",
    "print(max(hourglass))\n",
    "\n"
   ]
  },
  {
   "cell_type": "code",
   "execution_count": 23,
   "metadata": {
    "tags": []
   },
   "outputs": [
    {
     "output_type": "stream",
     "name": "stdout",
     "text": "15511210043330985984000000\n"
    }
   ],
   "source": [
    "    n = int(input())\n",
    "    fact = 1\n",
    "    for i in range(n):\n",
    "        fact *= (i+1)\n",
    "    print(fact)"
   ]
  },
  {
   "cell_type": "code",
   "execution_count": 16,
   "metadata": {
    "tags": []
   },
   "outputs": [
    {
     "output_type": "stream",
     "name": "stdout",
     "text": "5x0=0\n5x1=5\n5x2=10\n5x3=15\n5x4=20\n5x5=25\n5x6=30\n5x7=35\n5x8=40\n5x9=45\n5x10=50\n"
    }
   ],
   "source": [
    "sayi = int(input())\n",
    "for i in range(11):\n",
    "    print( f\"{sayi}x{i}={sayi*i}\")"
   ]
  },
  {
   "cell_type": "code",
   "execution_count": 22,
   "metadata": {
    "tags": []
   },
   "outputs": [
    {
     "output_type": "stream",
     "name": "stdout",
     "text": "1 4 7 10 13 16 19 22\n"
    }
   ],
   "source": [
    "print(*range(1,25,3))"
   ]
  },
  {
   "cell_type": "code",
   "execution_count": 25,
   "metadata": {
    "tags": []
   },
   "outputs": [
    {
     "output_type": "stream",
     "name": "stdout",
     "text": "{'g': 1, 'a': 5, 'l': 1, 't': 1, 's': 1, 'r': 1, 'y': 1}\n"
    }
   ],
   "source": [
    "yazi = str(input('please enter word'))\n",
    "yazi = list(yazi)\n",
    "yazi_1 = {}\n",
    "for i in range(len(yazi)):\n",
    "     yazi_1[yazi[i]] =yazi.count(yazi[i])\n",
    "print(yazi_1)"
   ]
  },
  {
   "cell_type": "code",
   "execution_count": 32,
   "metadata": {
    "tags": []
   },
   "outputs": [
    {
     "output_type": "stream",
     "name": "stdout",
     "text": "{'a': 1, 'i': 2, ' ': 5, 'd': 1, 'm': 1, 'e': 4, '?': 1, 'l': 1, 'v': 1, 'z': 1, 'r': 1, 'f': 1, 'g': 1}\n"
    }
   ],
   "source": [
    "x = input(\"pls enter a word/sentence: \")\n",
    "b = set(x)\n",
    "c = {}\n",
    "for i in b:\n",
    "    c[i]=(x.count(i))\n",
    "print(c)"
   ]
  },
  {
   "cell_type": "code",
   "execution_count": 37,
   "metadata": {
    "tags": []
   },
   "outputs": [
    {
     "output_type": "stream",
     "name": "stdout",
     "text": "True\nTrue\nTrue\nTrue\nFalse\n"
    }
   ],
   "source": [
    "    s = input()\n",
    "    print(any(c.isalnum() for c in s))\n",
    "    print(any(c.isalpha() for c in s))\n",
    "    print(any(c.isdigit() for c in s))\n",
    "    print(any(c.islower() for c in s))\n",
    "    print(any(c.isupper() for c in s))\n",
    "    "
   ]
  },
  {
   "cell_type": "code",
   "execution_count": 51,
   "metadata": {
    "tags": []
   },
   "outputs": [
    {
     "output_type": "stream",
     "name": "stdout",
     "text": "H         \n        HHH        \n       HHHHH       \n      HHHHHHH      \n     HHHHHHHHH     \n    HHHHHHHHHHH    \n   HHHHHHHHHHHHH   \n  HHHHHHHHHHHHHHH  \n HHHHHHHHHHHHHHHHH \nHHHHHHHHHHHHHHHHHHH\n     HHHHHHHHHH                              HHHHHHHHHH                         \n     HHHHHHHHHH                              HHHHHHHHHH                         \n     HHHHHHHHHH                              HHHHHHHHHH                         \n     HHHHHHHHHH                              HHHHHHHHHH                         \n     HHHHHHHHHH                              HHHHHHHHHH                         \n     HHHHHHHHHH                              HHHHHHHHHH                         \n     HHHHHHHHHH                              HHHHHHHHHH                         \n     HHHHHHHHHH                              HHHHHHHHHH                         \n     HHHHHHHHHH                              HHHHHHHHHH                         \n     HHHHHHHHHH                              HHHHHHHHHH                         \n     HHHHHHHHHH                              HHHHHHHHHH                         \n     HHHHHHHHHHHHHHHHHHHHHHHHHHHHHHHHHHHHHHHHHHHHHHHHHH     \n     HHHHHHHHHHHHHHHHHHHHHHHHHHHHHHHHHHHHHHHHHHHHHHHHHH     \n     HHHHHHHHHHHHHHHHHHHHHHHHHHHHHHHHHHHHHHHHHHHHHHHHHH     \n     HHHHHHHHHHHHHHHHHHHHHHHHHHHHHHHHHHHHHHHHHHHHHHHHHH     \n     HHHHHHHHHHHHHHHHHHHHHHHHHHHHHHHHHHHHHHHHHHHHHHHHHH     \n     HHHHHHHHHH                              HHHHHHHHHH                         \n     HHHHHHHHHH                              HHHHHHHHHH                         \n     HHHHHHHHHH                              HHHHHHHHHH                         \n     HHHHHHHHHH                              HHHHHHHHHH                         \n     HHHHHHHHHH                              HHHHHHHHHH                         \n     HHHHHHHHHH                              HHHHHHHHHH                         \n     HHHHHHHHHH                              HHHHHHHHHH                         \n     HHHHHHHHHH                              HHHHHHHHHH                         \n     HHHHHHHHHH                              HHHHHHHHHH                         \n     HHHHHHHHHH                              HHHHHHHHHH                         \n     HHHHHHHHHH                              HHHHHHHHHH                         \n                                        HHHHHHHHHHHHHHHHHHH \n                                         HHHHHHHHHHHHHHHHH  \n                                          HHHHHHHHHHHHHHH   \n                                           HHHHHHHHHHHHH    \n                                            HHHHHHHHHHH     \n                                             HHHHHHHHH      \n                                              HHHHHHH       \n                                               HHHHH        \n                                                HHH         \n                                                 H          \n"
    }
   ],
   "source": [
    "thickness = int(input()) #This must be an odd number\n",
    "c = 'H'\n",
    "\n",
    "#Top Cone\n",
    "for i in range(thickness):\n",
    "    print((c*i).rjust(thickness-1)+c+(c*i).ljust(thickness-1))\n",
    "    #Top Pillars\n",
    "for i in range(thickness+1):\n",
    "    print((c*thickness).center(thickness*2)+(c*thickness).center(thickness*6))\n",
    "\n",
    "#Middle Belt\n",
    "for i in range((thickness+1)//2):\n",
    "    print((c*thickness*5).center(thickness*6))    \n",
    "\n",
    "#Bottom Pillars\n",
    "for i in range(thickness+1):\n",
    "    print((c*thickness).center(thickness*2)+(c*thickness).center(thickness*6))    \n",
    "\n",
    "#Bottom Cone\n",
    "for i in range(thickness):\n",
    "    print(((c*(thickness-i-1)).rjust(thickness)+c+(c*(thickness-i-1)).ljust(thickness)).rjust(thickness*6))\n"
   ]
  },
  {
   "cell_type": "code",
   "execution_count": 29,
   "metadata": {
    "tags": []
   },
   "outputs": [
    {
     "output_type": "stream",
     "name": "stdout",
     "text": "37 is a prime number\n"
    }
   ],
   "source": [
    "number = int(input(\"Please enter the number you want to learn if it is a prime number:\"))\n",
    "#this part is for making the program faster. \n",
    "if number%2==0 or number<0:\n",
    "    print(f\"{number} is NOT a prime number\")\n",
    "else:    \n",
    "    for i in range(2,number):\n",
    "        if number % i == 0 :\n",
    "            print(f\"{number} is NOT a prime number\")\n",
    "            break\n",
    "    else:\n",
    "        print(f\"{number} is a prime number\")\n",
    "            \n",
    "\n",
    " "
   ]
  },
  {
   "cell_type": "code",
   "execution_count": 4,
   "metadata": {
    "tags": []
   },
   "outputs": [
    {
     "output_type": "stream",
     "name": "stdout",
     "text": "11\n9\n"
    }
   ],
   "source": [
    " n=29\n",
    " n_list = [str(i) for i in str(n)]\n",
    " print(int(n_list[0])+int(n_list[1]))\n",
    " \n",
    " print(int(n_list[1]))"
   ]
  },
  {
   "cell_type": "code",
   "execution_count": null,
   "metadata": {},
   "outputs": [],
   "source": [
    "def addTwoDigits(n):\n",
    "        n_list = [str(i) for i in str(n)]\n",
    "        return int(n_list[0])+int(n_list[1]def addTwoDigits(n):"
   ]
  },
  {
   "cell_type": "code",
   "execution_count": 2,
   "metadata": {
    "tags": []
   },
   "outputs": [
    {
     "output_type": "stream",
     "name": "stdout",
     "text": "abgjs\n"
    }
   ],
   "source": [
    "    inputString = input(str)\n",
    "    new_word=[]\n",
    "    set_a=('a','b','c','d','e','f','g','h','i','j','k','l','m','n','o','p','q','r','s','t','u','v','y','z')\n",
    "    set_b=('b','c','d','e','f','g','h','i','j','k','l','m','n','o','p','q','r','s','t','u','v','y','z','a')\n",
    "    list_input = list(inputString)\n",
    "    for i in range (len(list_input)):\n",
    "        new_word.append(set_b[(set_a.index(list_input[i]))])\n",
    "    new = \"\" \n",
    "    for x in new_word: \n",
    "        new += x  \n",
    "        \n",
    "\n",
    "    print(new) \n"
   ]
  },
  {
   "cell_type": "code",
   "execution_count": 6,
   "metadata": {
    "tags": []
   },
   "outputs": [
    {
     "output_type": "stream",
     "name": "stdout",
     "text": "['Geeks', 'For', 'Geeks']\n"
    }
   ],
   "source": [
    "def camel_case_split(str): \n",
    "    words = [[str[0]]] \n",
    "  \n",
    "    for c in str[1:]: \n",
    "        if words[-1][-1].islower() and c.isupper(): \n",
    "            words.append(list(c)) \n",
    "        else: \n",
    "            words[-1].append(c) \n",
    "  \n",
    "    return [''.join(word) for word in words] \n",
    "      \n",
    "# Driver code \n",
    "str = \"GeeksForGeeks\"\n",
    "print(camel_case_split(str))"
   ]
  },
  {
   "cell_type": "code",
   "execution_count": 9,
   "metadata": {
    "tags": []
   },
   "outputs": [
    {
     "output_type": "stream",
     "name": "stdout",
     "text": "1 W 2 R 3g\n"
    }
   ],
   "source": [
    "s = input()\n",
    "for x in s[:].split():\n",
    "    s = s.replace(x, x.capitalize())\n",
    "print(s)"
   ]
  },
  {
   "cell_type": "code",
   "execution_count": 1,
   "metadata": {
    "tags": []
   },
   "outputs": [
    {
     "output_type": "stream",
     "name": "stdout",
     "text": "33\n"
    }
   ],
   "source": [
    "print(0xA + 0xB + 0xC)\n"
   ]
  },
  {
   "cell_type": "code",
   "execution_count": 2,
   "metadata": {
    "tags": []
   },
   "outputs": [
    {
     "output_type": "stream",
     "name": "stdout",
     "text": "newline\n"
    }
   ],
   "source": [
    "print(\"new\" \"line\")\n"
   ]
  },
  {
   "cell_type": "code",
   "execution_count": 67,
   "metadata": {
    "tags": []
   },
   "outputs": [
    {
     "output_type": "stream",
     "name": "stdout",
     "text": "[2, 3, 5, 7, 11, 13, 17, 19, 23, 29, 31, 37, 41, 43, 47, 53, 59, 61, 67, 71, 73, 79, 83, 89, 97]\n"
    }
   ],
   "source": [
    "number = int(input('please tell me your number :'))\n",
    "prime = []\n",
    "for i in range(2,number+1):\n",
    "    for j in range (2,number+1):\n",
    "        if i/j !=1:\n",
    "            if i%j==0:\n",
    "                if i not in prime:\n",
    "                    break\n",
    "    else:\n",
    "        prime.append(i)\n",
    "print(prime)\n",
    "\n"
   ]
  },
  {
   "cell_type": "code",
   "execution_count": 1,
   "metadata": {
    "tags": []
   },
   "outputs": [
    {
     "output_type": "stream",
     "name": "stdout",
     "text": "1\n2\nFizz\n4\nBuzz\nFizz\n7\n8\nFizz\nBuzz\n11\nFizz\n13\n14\nFizzBuzz\n16\n17\nFizz\n19\nBuzz\nFizz\n22\n23\nFizz\nBuzz\n26\nFizz\n28\n29\nFizzBuzz\n31\n32\nFizz\n34\nBuzz\nFizz\n37\n38\nFizz\nBuzz\n41\nFizz\n43\n44\nFizzBuzz\n46\n47\nFizz\n49\nBuzz\nFizz\n52\n53\nFizz\nBuzz\n56\nFizz\n58\n59\nFizzBuzz\n61\n62\nFizz\n64\nBuzz\nFizz\n67\n68\nFizz\nBuzz\n71\nFizz\n73\n74\nFizzBuzz\n76\n77\nFizz\n79\nBuzz\nFizz\n82\n83\nFizz\nBuzz\n86\nFizz\n88\n89\nFizzBuzz\n91\n92\nFizz\n94\nBuzz\nFizz\n97\n98\nFizz\n"
    }
   ],
   "source": [
    "for i in range(1,int(input())):\n",
    "\n",
    "    if i%3==0 and not(i%5==0):\n",
    "        print('Fizz'),\n",
    "    elif i%5==0 and not(i%3==0):\n",
    "        print('Buzz'),\n",
    "    elif i%5==0 and i%3==0:\n",
    "        print('FizzBuzz')\n",
    "    \n",
    "    else:\n",
    "        print(i)"
   ]
  },
  {
   "cell_type": "code",
   "execution_count": 1,
   "metadata": {
    "tags": []
   },
   "outputs": [
    {
     "output_type": "stream",
     "name": "stdout",
     "text": "[2, 3, 5, 7, 11, 13, 17, 19, 23, 29, 31, 37, 41, 43, 47, 53, 59, 61, 67, 71, 73, 79, 83, 89, 97]\n"
    }
   ],
   "source": [
    "number = int(input('please tell me your number :'))\n",
    "prime = []\n",
    "for i in range(2,number+1):\n",
    "    for j in range (2,i//2+1):\n",
    "        if i/j !=1:\n",
    "            if i%j==0:\n",
    "                if i not in prime:\n",
    "                    break\n",
    "    else:\n",
    "        prime.append(i)\n",
    "print(prime)\n"
   ]
  },
  {
   "cell_type": "code",
   "execution_count": 3,
   "metadata": {
    "tags": []
   },
   "outputs": [
    {
     "output_type": "stream",
     "name": "stdout",
     "text": "[2, 3, 5, 7, 11, 13, 17, 19, 23, 29, 31, 37, 41, 43, 47, 53, 59, 61, 67, 71, 73, 79, 83, 89, 97]\n"
    }
   ],
   "source": [
    "prime = []\n",
    "n = 100\n",
    "for i in range (2, n+1):\n",
    "    counter = 0\n",
    "    for j in range (2, n+1):\n",
    "        if i % j == 0 and i/j!=1:\n",
    "            counter += 1\n",
    "            break\n",
    "    if counter == 0 :\n",
    "        prime.append(i)\n",
    "print(prime)"
   ]
  },
  {
   "cell_type": "code",
   "execution_count": 27,
   "metadata": {
    "tags": []
   },
   "outputs": [
    {
     "output_type": "stream",
     "name": "stdout",
     "text": "2000 is a leap year\n"
    }
   ],
   "source": [
    "x = int(input('please enter the year ypu want to check if it is a leap year :'))\n",
    "if x%4==0 and x%100!=0 or  x%400 ==0 :\n",
    "    print(x,'is a leap year')\n",
    "else:\n",
    "    print(x,'is NOT a leap year')"
   ]
  },
  {
   "cell_type": "code",
   "execution_count": 18,
   "metadata": {
    "tags": []
   },
   "outputs": [
    {
     "output_type": "stream",
     "name": "stdout",
     "text": "Prime\nNot prime\nNot prime\nNot prime\nNot prime\n"
    }
   ],
   "source": [
    "import math\n",
    "\n",
    "def isPrime(n):\n",
    "    if n == 2:\n",
    "        return True\n",
    "    elif n == 1 or (n & 1) == 0:\n",
    "        return False\n",
    "        \n",
    "    for i in range(2, math.ceil(math.sqrt(n)) + 1):\n",
    "\n",
    "        if (n % i) == 0:\n",
    "            return False\n",
    "    \n",
    "    return True\n",
    "\n",
    "p = int(input())\n",
    "for i in range(0, p):\n",
    "    x = int(input())\n",
    "\n",
    "    s = \"Prime\" if (isPrime(x)) else \"Not prime\"\n",
    "    print(s);\n"
   ]
  },
  {
   "cell_type": "code",
   "execution_count": 10,
   "metadata": {
    "tags": []
   },
   "outputs": [
    {
     "output_type": "stream",
     "name": "stdout",
     "text": "19\n4.358898943540674\n5\n"
    }
   ],
   "source": [
    "x = int(input())\n",
    "print(math.ceil(x))\n",
    "print(math.sqrt(x))\n",
    "    \n",
    "print(math.ceil(math.sqrt(x)))"
   ]
  },
  {
   "cell_type": "code",
   "execution_count": 17,
   "metadata": {
    "tags": []
   },
   "outputs": [
    {
     "output_type": "stream",
     "name": "stdout",
     "text": "{'h': 1, 'i': 1, 'p': 2, 'o': 2, ' ': 3, 'r': 1, 'u': 2, 'n': 1, 's': 2, 't': 1, '!': 1}\n"
    }
   ],
   "source": [
    "x = str(input('please enter the word :'))\n",
    "dictx = {}\n",
    "for i in x:\n",
    "    dictx[i]= x.count(i)\n",
    "\n",
    "print(dictx)\n"
   ]
  }
 ],
 "metadata": {
  "language_info": {
   "codemirror_mode": {
    "name": "ipython",
    "version": 3
   },
   "file_extension": ".py",
   "mimetype": "text/x-python",
   "name": "python",
   "nbconvert_exporter": "python",
   "pygments_lexer": "ipython3",
   "version": "3.7.6-final"
  },
  "orig_nbformat": 2,
  "kernelspec": {
   "name": "python3",
   "display_name": "Python 3"
  }
 },
 "nbformat": 4,
 "nbformat_minor": 2
}
