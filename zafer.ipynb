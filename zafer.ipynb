{
 "cells": [
  {
   "cell_type": "code",
   "execution_count": 53,
   "metadata": {
    "tags": []
   },
   "outputs": [
    {
     "output_type": "stream",
     "name": "stdout",
     "text": "Weird  \n"
    }
   ],
   "source": [
    "n = \n",
    "\n",
    "condition = n%2==1\n",
    "condition2 = 21> n >5  and n%2==0 \n",
    "condition3 =  n%2==0 and n>20\n",
    "condition4 =  n%2==0 and 5> n >1\n",
    "\n",
    "print(condition * 'Weird', condition2 * 'Weird', condition3 *'Not Weird',condition4 *'Not Weird')"
   ]
  },
  {
   "cell_type": "code",
   "execution_count": 106,
   "metadata": {
    "tags": []
   },
   "outputs": [
    {
     "output_type": "stream",
     "name": "stdout",
     "text": "Weird\n"
    }
   ],
   "source": [
    "    N = int(input())\n",
    "\n",
    "    if (N%2==0 and N>20) or (N%2==0 and 5> N >1):\n",
    "        print('Not Weird')\n",
    "\n",
    "    else:\n",
    "         print('Weird')\n",
    "\n",
    "        \n",
    "\n"
   ]
  },
  {
   "cell_type": "code",
   "execution_count": 176,
   "metadata": {
    "tags": []
   },
   "outputs": [
    {
     "output_type": "stream",
     "name": "stdout",
     "text": "1\n2\nFizz\n4\nBuzz\nFizz\n7\n8\nFizz\nBuzz\n11\nFizz\n13\n14\n"
    }
   ],
   "source": [
    "for i in range(1,int(input())):\n",
    "\n",
    "    if i%3==0 and not(i%5==0):\n",
    "        print('Fizz'),\n",
    "    elif i%5==0 and not(i%3==0):\n",
    "        print('Buzz'),\n",
    "    elif i%5==0 and i%3==0:\n",
    "        print('FizzBuzz')\n",
    "    \n",
    "    else:\n",
    "        print(i)"
   ]
  },
  {
   "cell_type": "code",
   "execution_count": 178,
   "metadata": {},
   "outputs": [
    {
     "output_type": "execute_result",
     "data": {
      "text/plain": "7.45"
     },
     "metadata": {},
     "execution_count": 178
    }
   ],
   "source": [
    "x = 7.4546464\n",
    "round(x,2)"
   ]
  },
  {
   "cell_type": "code",
   "execution_count": 188,
   "metadata": {
    "tags": []
   },
   "outputs": [
    {
     "output_type": "stream",
     "name": "stdout",
     "text": "1\n4\n9\n16\n25\n"
    }
   ],
   "source": [
    "    n = int(input())\n",
    "    for i in range(1,n+1):\n",
    "        print(i**2)"
   ]
  },
  {
   "cell_type": "code",
   "execution_count": 214,
   "metadata": {
    "tags": []
   },
   "outputs": [
    {
     "output_type": "stream",
     "name": "stdout",
     "text": "12345"
    }
   ],
   "source": [
    "n = int(input())\n",
    "for i in range(1,n+1):\n",
    "        print(i,end='')\n",
    "        "
   ]
  }
 ],
 "metadata": {
  "language_info": {
   "codemirror_mode": {
    "name": "ipython",
    "version": 3
   },
   "file_extension": ".py",
   "mimetype": "text/x-python",
   "name": "python",
   "nbconvert_exporter": "python",
   "pygments_lexer": "ipython3",
   "version": "3.7.6-final"
  },
  "orig_nbformat": 2,
  "kernelspec": {
   "name": "python3",
   "display_name": "Python 3"
  }
 },
 "nbformat": 4,
 "nbformat_minor": 2
}