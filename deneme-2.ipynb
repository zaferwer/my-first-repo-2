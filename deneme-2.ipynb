city = "SARAJEVO"
text = f"{city.capitalize()}
print(text)
